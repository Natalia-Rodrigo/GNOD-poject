{
 "cells": [
  {
   "cell_type": "code",
   "execution_count": 2,
   "id": "8bce0538",
   "metadata": {},
   "outputs": [],
   "source": [
    "import pandas as pd\n",
    "from sklearn import datasets # sklearn comes with some toy datasets to practise\n",
    "from sklearn.preprocessing import StandardScaler\n",
    "from sklearn.cluster import KMeans\n",
    "import sys\n",
    "import numpy as np\n",
    "# Make sure that your config.py Python file with your credentials is located\n",
    "# in the same folder as your Jupyter notebook.\n",
    "from config import *\n",
    "import pickle"
   ]
  },
  {
   "cell_type": "code",
   "execution_count": 3,
   "id": "014f2851",
   "metadata": {},
   "outputs": [],
   "source": [
    "from sklearn.datasets import make_classification\n",
    "from sklearn.cluster import HDBSCAN\n",
    "from scipy.spatial.distance import euclidean\n",
    "from sklearn.metrics import silhouette_score, calinski_harabasz_score\n",
    "from kneed import KneeLocator\n",
    "import matplotlib.pyplot as plt\n",
    "import seaborn as sns\n",
    "import colorcet as cc\n",
    "import time"
   ]
  },
  {
   "cell_type": "code",
   "execution_count": 4,
   "id": "ae75e98e",
   "metadata": {},
   "outputs": [],
   "source": [
    "from functions import*"
   ]
  },
  {
   "cell_type": "code",
   "execution_count": 5,
   "id": "6906e243",
   "metadata": {},
   "outputs": [],
   "source": [
    "from IPython.display import clear_output"
   ]
  },
  {
   "cell_type": "code",
   "execution_count": 6,
   "id": "75c1e728",
   "metadata": {},
   "outputs": [],
   "source": [
    "from scipy.spatial import distance_matrix"
   ]
  },
  {
   "cell_type": "code",
   "execution_count": 7,
   "id": "01839e45",
   "metadata": {},
   "outputs": [],
   "source": [
    "from IPython.display import display, HTML"
   ]
  },
  {
   "cell_type": "code",
   "execution_count": 8,
   "id": "082def7d",
   "metadata": {},
   "outputs": [],
   "source": [
    "import spotipy\n",
    "import json\n",
    "from spotipy.oauth2 import SpotifyClientCredentials\n",
    "\n",
    "\n",
    "#Initialize SpotiPy with user credentias #\n",
    "sp = spotipy.Spotify(auth_manager=SpotifyClientCredentials(client_id=Client_ID,\n",
    "                                                           client_secret=Client_Secret))"
   ]
  },
  {
   "cell_type": "code",
   "execution_count": 9,
   "id": "287064cb",
   "metadata": {},
   "outputs": [],
   "source": [
    "sp._session.timeout = 10"
   ]
  },
  {
   "cell_type": "code",
   "execution_count": 10,
   "id": "bb4a89a0",
   "metadata": {},
   "outputs": [],
   "source": [
    "import pickle\n",
    "\n",
    "def main():\n",
    "    \n",
    "    scaler_filename = \"./scaler_v1.pickle\"\n",
    "    with open(scaler_filename, \"rb\") as file:\n",
    "        scaler = pickle.load(file)\n",
    "        \n",
    "    umap_filename = \"./umap.pickle\"\n",
    "    with open(umap_filename, \"rb\") as file:\n",
    "        umap = pickle.load(file)\n",
    "        \n",
    "    database_filename = \"./umap_df.csv\"\n",
    "    X_umap_df = pd.read_csv(database_filename)\n",
    "    \n",
    "    all_songs_filename = \"../../Day_3/Afternoon/lab-clustering-songs/all_songs_clustered.csv\"\n",
    "    all_songs = pd.read_csv(all_songs_filename)\n",
    "    all_songs['open_link'] = all_songs['id'].apply(lambda track_id: f'<a href=\"https://open.spotify.com/track/{track_id}\" target=\"_blank\">Click me</a>')\n",
    "      \n",
    "    answer = True\n",
    "    while answer == True:\n",
    "        # Ask the user to enter a song\n",
    "        \n",
    "        user_input = input(\"Please enter your song: \")\n",
    "        \n",
    "        five_songs = search_song_five(user_input)\n",
    "        if five_songs.empty:\n",
    "            print(\"Sorry, no songs found. Please enter a different song.\")\n",
    "            continue  # Ask for a new input if no songs are found\n",
    "        five_songs_no_id=five_songs.drop(columns=\"id\")\n",
    "        display(five_songs_no_id)\n",
    "        \n",
    "        select_track = int(input(\"Please select your track from, giving a number between 0 and 4:\"))\n",
    "        song_id = five_songs.iloc[select_track,2]\n",
    "        \n",
    "        audio_feat=get_audio_features_for_chunks(sp, song_id,sleep_time=0)\n",
    "        # How to proceed? Do we have to apply the whole df again \n",
    "        \n",
    "        X = audio_feat.select_dtypes(np.number)\n",
    "        \n",
    "        #X_scaled = scaler.transform(X)\n",
    "        #X_scaled_df = pd.DataFrame(X_scaled, columns = X.columns)\n",
    "        umap_representation = umap.transform(X)\n",
    "        user_song_umap_df= pd.DataFrame(umap_representation,columns=[\"UMAP_1\",\"UMAP_2\"])\n",
    "        d = distance_matrix(user_song_umap_df, X_umap_df.iloc[:,[0,1]]) #numpy array\n",
    "        closest_song_to_user_song = np.argmin(d)\n",
    "        cluster=X_umap_df.iloc[closest_song_to_user_song,-1]\n",
    "        \n",
    "        recommended_songs=get_records_by_id_and_cluster(all_songs,song_id,cluster)\n",
    "        recommended_songs = recommended_songs[[\"artist\",\"title\",\"open_link\"]]\n",
    "        \n",
    "        print(\"Please check the recommendations we have selected for you:\\n\\n\")\n",
    "        \n",
    "        display(HTML(recommended_songs.to_html(escape=False)))\n",
    "\n",
    "        # Ask the user if they want more recommendations\n",
    "        user_response = input(\"Do you want to get more songs recommended? (yes/no): \").lower()\n",
    "        while user_response not in [\"yes\", \"no\"]:\n",
    "            print(\"\\n\")\n",
    "            print(\"Please enter (yes/no)\\n\")\n",
    "            user_response = input(\"Do you want to get more songs recommended? (yes/no): \").lower()\n",
    "            print(\"\\n\")\n",
    "\n",
    "        # Check if the user wants more recommendations\n",
    "        if user_response == 'no':\n",
    "            answer = False"
   ]
  },
  {
   "cell_type": "code",
   "execution_count": 11,
   "id": "60390796",
   "metadata": {},
   "outputs": [
    {
     "name": "stdout",
     "output_type": "stream",
     "text": [
      "Please enter your song: greedy\n"
     ]
    },
    {
     "data": {
      "text/html": [
       "<div>\n",
       "<style scoped>\n",
       "    .dataframe tbody tr th:only-of-type {\n",
       "        vertical-align: middle;\n",
       "    }\n",
       "\n",
       "    .dataframe tbody tr th {\n",
       "        vertical-align: top;\n",
       "    }\n",
       "\n",
       "    .dataframe thead th {\n",
       "        text-align: right;\n",
       "    }\n",
       "</style>\n",
       "<table border=\"1\" class=\"dataframe\">\n",
       "  <thead>\n",
       "    <tr style=\"text-align: right;\">\n",
       "      <th></th>\n",
       "      <th>title</th>\n",
       "      <th>artist</th>\n",
       "    </tr>\n",
       "  </thead>\n",
       "  <tbody>\n",
       "    <tr>\n",
       "      <th>0</th>\n",
       "      <td>greedy</td>\n",
       "      <td>Tate McRae</td>\n",
       "    </tr>\n",
       "    <tr>\n",
       "      <th>1</th>\n",
       "      <td>greedy</td>\n",
       "      <td>Tate McRae</td>\n",
       "    </tr>\n",
       "    <tr>\n",
       "      <th>2</th>\n",
       "      <td>greedy</td>\n",
       "      <td>Tate McRae</td>\n",
       "    </tr>\n",
       "    <tr>\n",
       "      <th>3</th>\n",
       "      <td>Greedy</td>\n",
       "      <td>Ariana Grande</td>\n",
       "    </tr>\n",
       "    <tr>\n",
       "      <th>4</th>\n",
       "      <td>Greedy</td>\n",
       "      <td>King David, Tekno</td>\n",
       "    </tr>\n",
       "  </tbody>\n",
       "</table>\n",
       "</div>"
      ],
      "text/plain": [
       "    title             artist\n",
       "0  greedy         Tate McRae\n",
       "1  greedy         Tate McRae\n",
       "2  greedy         Tate McRae\n",
       "3  Greedy      Ariana Grande\n",
       "4  Greedy  King David, Tekno"
      ]
     },
     "metadata": {},
     "output_type": "display_data"
    },
    {
     "name": "stdout",
     "output_type": "stream",
     "text": [
      "Please select your track from, giving a number between 0 and 4:0\n",
      "Please check the recommendations we have selected for you:\n",
      "\n",
      "\n"
     ]
    },
    {
     "data": {
      "text/html": [
       "<table border=\"1\" class=\"dataframe\">\n",
       "  <thead>\n",
       "    <tr style=\"text-align: right;\">\n",
       "      <th></th>\n",
       "      <th>artist</th>\n",
       "      <th>title</th>\n",
       "      <th>open_link</th>\n",
       "    </tr>\n",
       "  </thead>\n",
       "  <tbody>\n",
       "    <tr>\n",
       "      <th>21</th>\n",
       "      <td>jelly roll</td>\n",
       "      <td>need a favor</td>\n",
       "      <td><a href=\"https://open.spotify.com/track/6ngGiVX91DRmGDH4G5EgeO\" target=\"_blank\">Click me</a></td>\n",
       "    </tr>\n",
       "    <tr>\n",
       "      <th>1</th>\n",
       "      <td>taylor swift</td>\n",
       "      <td>cruel summer</td>\n",
       "      <td><a href=\"https://open.spotify.com/track/6ClYMObS7f3Nn4AiZHYQt3\" target=\"_blank\">Click me</a></td>\n",
       "    </tr>\n",
       "    <tr>\n",
       "      <th>97</th>\n",
       "      <td>sophie ellis-bextor</td>\n",
       "      <td>murder on the dancefloor</td>\n",
       "      <td><a href=\"https://open.spotify.com/track/4tKGFmENO69tZR9ahgZu48\" target=\"_blank\">Click me</a></td>\n",
       "    </tr>\n",
       "    <tr>\n",
       "      <th>50</th>\n",
       "      <td>drake</td>\n",
       "      <td>you broke my heart</td>\n",
       "      <td><a href=\"https://open.spotify.com/track/5Se32hEA9raeboZerywxka\" target=\"_blank\">Click me</a></td>\n",
       "    </tr>\n",
       "    <tr>\n",
       "      <th>4</th>\n",
       "      <td>zach bryan featuring kacey musgraves</td>\n",
       "      <td>i remember everything</td>\n",
       "      <td><a href=\"https://open.spotify.com/track/4KULAymBBJcPRpk1yO4dOG\" target=\"_blank\">Click me</a></td>\n",
       "    </tr>\n",
       "  </tbody>\n",
       "</table>"
      ],
      "text/plain": [
       "<IPython.core.display.HTML object>"
      ]
     },
     "metadata": {},
     "output_type": "display_data"
    },
    {
     "name": "stdout",
     "output_type": "stream",
     "text": [
      "Do you want to get more songs recommended? (yes/no): yes\n",
      "Please enter your song: imagine\n"
     ]
    },
    {
     "data": {
      "text/html": [
       "<div>\n",
       "<style scoped>\n",
       "    .dataframe tbody tr th:only-of-type {\n",
       "        vertical-align: middle;\n",
       "    }\n",
       "\n",
       "    .dataframe tbody tr th {\n",
       "        vertical-align: top;\n",
       "    }\n",
       "\n",
       "    .dataframe thead th {\n",
       "        text-align: right;\n",
       "    }\n",
       "</style>\n",
       "<table border=\"1\" class=\"dataframe\">\n",
       "  <thead>\n",
       "    <tr style=\"text-align: right;\">\n",
       "      <th></th>\n",
       "      <th>title</th>\n",
       "      <th>artist</th>\n",
       "    </tr>\n",
       "  </thead>\n",
       "  <tbody>\n",
       "    <tr>\n",
       "      <th>0</th>\n",
       "      <td>I Can Only Imagine</td>\n",
       "      <td>MercyMe</td>\n",
       "    </tr>\n",
       "    <tr>\n",
       "      <th>1</th>\n",
       "      <td>imagine</td>\n",
       "      <td>Ariana Grande</td>\n",
       "    </tr>\n",
       "    <tr>\n",
       "      <th>2</th>\n",
       "      <td>Imagine - Remastered 2010</td>\n",
       "      <td>John Lennon</td>\n",
       "    </tr>\n",
       "    <tr>\n",
       "      <th>3</th>\n",
       "      <td>Imagine</td>\n",
       "      <td>yvngxchris</td>\n",
       "    </tr>\n",
       "    <tr>\n",
       "      <th>4</th>\n",
       "      <td>Imagine</td>\n",
       "      <td>Jack Johnson</td>\n",
       "    </tr>\n",
       "  </tbody>\n",
       "</table>\n",
       "</div>"
      ],
      "text/plain": [
       "                       title         artist\n",
       "0         I Can Only Imagine        MercyMe\n",
       "1                    imagine  Ariana Grande\n",
       "2  Imagine - Remastered 2010    John Lennon\n",
       "3                    Imagine     yvngxchris\n",
       "4                    Imagine   Jack Johnson"
      ]
     },
     "metadata": {},
     "output_type": "display_data"
    },
    {
     "name": "stdout",
     "output_type": "stream",
     "text": [
      "Please select your track from, giving a number between 0 and 4:2\n",
      "Please check the recommendations we have selected for you:\n",
      "\n",
      "\n"
     ]
    },
    {
     "data": {
      "text/html": [
       "<table border=\"1\" class=\"dataframe\">\n",
       "  <thead>\n",
       "    <tr style=\"text-align: right;\">\n",
       "      <th></th>\n",
       "      <th>artist</th>\n",
       "      <th>title</th>\n",
       "      <th>open_link</th>\n",
       "    </tr>\n",
       "  </thead>\n",
       "  <tbody>\n",
       "    <tr>\n",
       "      <th>1070</th>\n",
       "      <td>the ravens</td>\n",
       "      <td>gotta find my baby</td>\n",
       "      <td><a href=\"https://open.spotify.com/track/3GfNUDb3AIL2VbWgvWsgKS\" target=\"_blank\">Click me</a></td>\n",
       "    </tr>\n",
       "    <tr>\n",
       "      <th>196</th>\n",
       "      <td>alpha & omega</td>\n",
       "      <td>honest opinion</td>\n",
       "      <td><a href=\"https://open.spotify.com/track/0Qt4P9SmYBhzE5wdA4ERIl\" target=\"_blank\">Click me</a></td>\n",
       "    </tr>\n",
       "    <tr>\n",
       "      <th>2112</th>\n",
       "      <td>brenda lee</td>\n",
       "      <td>fly me to the moon</td>\n",
       "      <td><a href=\"https://open.spotify.com/track/5KIzXL5NxUb8NZQEuSqFt6\" target=\"_blank\">Click me</a></td>\n",
       "    </tr>\n",
       "    <tr>\n",
       "      <th>2269</th>\n",
       "      <td>cinderella</td>\n",
       "      <td>night songs</td>\n",
       "      <td><a href=\"https://open.spotify.com/track/5MWXOo8DJwgODtPGaietNz\" target=\"_blank\">Click me</a></td>\n",
       "    </tr>\n",
       "    <tr>\n",
       "      <th>3037</th>\n",
       "      <td>u-roy</td>\n",
       "      <td>peace and love</td>\n",
       "      <td><a href=\"https://open.spotify.com/track/5UOXwSPgkkOf8Ba9ehmDgu\" target=\"_blank\">Click me</a></td>\n",
       "    </tr>\n",
       "  </tbody>\n",
       "</table>"
      ],
      "text/plain": [
       "<IPython.core.display.HTML object>"
      ]
     },
     "metadata": {},
     "output_type": "display_data"
    },
    {
     "name": "stdout",
     "output_type": "stream",
     "text": [
      "Do you want to get more songs recommended? (yes/no): rrr\n",
      "\n",
      "\n",
      "Please enter (yes/no)\n",
      "\n",
      "Do you want to get more songs recommended? (yes/no): sss\n",
      "\n",
      "\n",
      "\n",
      "\n",
      "Please enter (yes/no)\n",
      "\n",
      "Do you want to get more songs recommended? (yes/no): no\n",
      "\n",
      "\n"
     ]
    }
   ],
   "source": [
    "main()"
   ]
  },
  {
   "cell_type": "code",
   "execution_count": 9,
   "id": "b7caa4ea",
   "metadata": {},
   "outputs": [],
   "source": [
    "all_songs = pd.read_csv(\"../../Day_3/Afternoon/lab-clustering-songs/all_songs_clustered.csv\")"
   ]
  },
  {
   "cell_type": "code",
   "execution_count": 10,
   "id": "a64ac655",
   "metadata": {},
   "outputs": [
    {
     "data": {
      "text/html": [
       "<div>\n",
       "<style scoped>\n",
       "    .dataframe tbody tr th:only-of-type {\n",
       "        vertical-align: middle;\n",
       "    }\n",
       "\n",
       "    .dataframe tbody tr th {\n",
       "        vertical-align: top;\n",
       "    }\n",
       "\n",
       "    .dataframe thead th {\n",
       "        text-align: right;\n",
       "    }\n",
       "</style>\n",
       "<table border=\"1\" class=\"dataframe\">\n",
       "  <thead>\n",
       "    <tr style=\"text-align: right;\">\n",
       "      <th></th>\n",
       "      <th>artist</th>\n",
       "      <th>title</th>\n",
       "      <th>id</th>\n",
       "      <th>danceability</th>\n",
       "      <th>energy</th>\n",
       "      <th>key</th>\n",
       "      <th>loudness</th>\n",
       "      <th>mode</th>\n",
       "      <th>speechiness</th>\n",
       "      <th>acousticness</th>\n",
       "      <th>...</th>\n",
       "      <th>tempo</th>\n",
       "      <th>type</th>\n",
       "      <th>uri</th>\n",
       "      <th>track_href</th>\n",
       "      <th>analysis_url</th>\n",
       "      <th>duration_ms</th>\n",
       "      <th>time_signature</th>\n",
       "      <th>tag</th>\n",
       "      <th>hdbscan_cluster</th>\n",
       "      <th>dbscan_cluster</th>\n",
       "    </tr>\n",
       "  </thead>\n",
       "  <tbody>\n",
       "    <tr>\n",
       "      <th>0</th>\n",
       "      <td>jack harlow</td>\n",
       "      <td>lovin on me</td>\n",
       "      <td>4xhsWYTOGcal8zt0J161CU</td>\n",
       "      <td>0.943</td>\n",
       "      <td>0.558</td>\n",
       "      <td>2</td>\n",
       "      <td>-4.911</td>\n",
       "      <td>1</td>\n",
       "      <td>0.0568</td>\n",
       "      <td>0.0026</td>\n",
       "      <td>...</td>\n",
       "      <td>104.983</td>\n",
       "      <td>audio_features</td>\n",
       "      <td>spotify:track:4xhsWYTOGcal8zt0J161CU</td>\n",
       "      <td>https://api.spotify.com/v1/tracks/4xhsWYTOGcal...</td>\n",
       "      <td>https://api.spotify.com/v1/audio-analysis/4xhs...</td>\n",
       "      <td>138411</td>\n",
       "      <td>4</td>\n",
       "      <td>hot</td>\n",
       "      <td>17</td>\n",
       "      <td>0</td>\n",
       "    </tr>\n",
       "    <tr>\n",
       "      <th>1</th>\n",
       "      <td>taylor swift</td>\n",
       "      <td>cruel summer</td>\n",
       "      <td>6ClYMObS7f3Nn4AiZHYQt3</td>\n",
       "      <td>0.278</td>\n",
       "      <td>0.907</td>\n",
       "      <td>9</td>\n",
       "      <td>-4.606</td>\n",
       "      <td>1</td>\n",
       "      <td>0.0827</td>\n",
       "      <td>0.1260</td>\n",
       "      <td>...</td>\n",
       "      <td>83.178</td>\n",
       "      <td>audio_features</td>\n",
       "      <td>spotify:track:6ClYMObS7f3Nn4AiZHYQt3</td>\n",
       "      <td>https://api.spotify.com/v1/tracks/6ClYMObS7f3N...</td>\n",
       "      <td>https://api.spotify.com/v1/audio-analysis/6ClY...</td>\n",
       "      <td>229567</td>\n",
       "      <td>4</td>\n",
       "      <td>hot</td>\n",
       "      <td>-1</td>\n",
       "      <td>1</td>\n",
       "    </tr>\n",
       "    <tr>\n",
       "      <th>2</th>\n",
       "      <td>tate mcrae</td>\n",
       "      <td>greedy</td>\n",
       "      <td>3rUGC1vUpkDG9CZFHMur1t</td>\n",
       "      <td>0.750</td>\n",
       "      <td>0.733</td>\n",
       "      <td>6</td>\n",
       "      <td>-3.180</td>\n",
       "      <td>0</td>\n",
       "      <td>0.0319</td>\n",
       "      <td>0.2560</td>\n",
       "      <td>...</td>\n",
       "      <td>111.018</td>\n",
       "      <td>audio_features</td>\n",
       "      <td>spotify:track:3rUGC1vUpkDG9CZFHMur1t</td>\n",
       "      <td>https://api.spotify.com/v1/tracks/3rUGC1vUpkDG...</td>\n",
       "      <td>https://api.spotify.com/v1/audio-analysis/3rUG...</td>\n",
       "      <td>131872</td>\n",
       "      <td>1</td>\n",
       "      <td>hot</td>\n",
       "      <td>123</td>\n",
       "      <td>2</td>\n",
       "    </tr>\n",
       "    <tr>\n",
       "      <th>3</th>\n",
       "      <td>doja cat</td>\n",
       "      <td>paint the town red</td>\n",
       "      <td>2IGMVunIBsBLtEQyoI1Mu7</td>\n",
       "      <td>0.868</td>\n",
       "      <td>0.538</td>\n",
       "      <td>5</td>\n",
       "      <td>-8.603</td>\n",
       "      <td>1</td>\n",
       "      <td>0.1740</td>\n",
       "      <td>0.2690</td>\n",
       "      <td>...</td>\n",
       "      <td>99.968</td>\n",
       "      <td>audio_features</td>\n",
       "      <td>spotify:track:2IGMVunIBsBLtEQyoI1Mu7</td>\n",
       "      <td>https://api.spotify.com/v1/tracks/2IGMVunIBsBL...</td>\n",
       "      <td>https://api.spotify.com/v1/audio-analysis/2IGM...</td>\n",
       "      <td>231750</td>\n",
       "      <td>4</td>\n",
       "      <td>hot</td>\n",
       "      <td>240</td>\n",
       "      <td>1</td>\n",
       "    </tr>\n",
       "    <tr>\n",
       "      <th>4</th>\n",
       "      <td>zach bryan featuring kacey musgraves</td>\n",
       "      <td>i remember everything</td>\n",
       "      <td>4KULAymBBJcPRpk1yO4dOG</td>\n",
       "      <td>0.429</td>\n",
       "      <td>0.453</td>\n",
       "      <td>0</td>\n",
       "      <td>-7.746</td>\n",
       "      <td>1</td>\n",
       "      <td>0.0459</td>\n",
       "      <td>0.5540</td>\n",
       "      <td>...</td>\n",
       "      <td>77.639</td>\n",
       "      <td>audio_features</td>\n",
       "      <td>spotify:track:4KULAymBBJcPRpk1yO4dOG</td>\n",
       "      <td>https://api.spotify.com/v1/tracks/4KULAymBBJcP...</td>\n",
       "      <td>https://api.spotify.com/v1/audio-analysis/4KUL...</td>\n",
       "      <td>227196</td>\n",
       "      <td>4</td>\n",
       "      <td>hot</td>\n",
       "      <td>259</td>\n",
       "      <td>1</td>\n",
       "    </tr>\n",
       "  </tbody>\n",
       "</table>\n",
       "<p>5 rows × 23 columns</p>\n",
       "</div>"
      ],
      "text/plain": [
       "                                 artist                  title  \\\n",
       "0                           jack harlow            lovin on me   \n",
       "1                          taylor swift           cruel summer   \n",
       "2                            tate mcrae                 greedy   \n",
       "3                              doja cat     paint the town red   \n",
       "4  zach bryan featuring kacey musgraves  i remember everything   \n",
       "\n",
       "                       id  danceability  energy  key  loudness  mode  \\\n",
       "0  4xhsWYTOGcal8zt0J161CU         0.943   0.558    2    -4.911     1   \n",
       "1  6ClYMObS7f3Nn4AiZHYQt3         0.278   0.907    9    -4.606     1   \n",
       "2  3rUGC1vUpkDG9CZFHMur1t         0.750   0.733    6    -3.180     0   \n",
       "3  2IGMVunIBsBLtEQyoI1Mu7         0.868   0.538    5    -8.603     1   \n",
       "4  4KULAymBBJcPRpk1yO4dOG         0.429   0.453    0    -7.746     1   \n",
       "\n",
       "   speechiness  acousticness  ...    tempo            type  \\\n",
       "0       0.0568        0.0026  ...  104.983  audio_features   \n",
       "1       0.0827        0.1260  ...   83.178  audio_features   \n",
       "2       0.0319        0.2560  ...  111.018  audio_features   \n",
       "3       0.1740        0.2690  ...   99.968  audio_features   \n",
       "4       0.0459        0.5540  ...   77.639  audio_features   \n",
       "\n",
       "                                    uri  \\\n",
       "0  spotify:track:4xhsWYTOGcal8zt0J161CU   \n",
       "1  spotify:track:6ClYMObS7f3Nn4AiZHYQt3   \n",
       "2  spotify:track:3rUGC1vUpkDG9CZFHMur1t   \n",
       "3  spotify:track:2IGMVunIBsBLtEQyoI1Mu7   \n",
       "4  spotify:track:4KULAymBBJcPRpk1yO4dOG   \n",
       "\n",
       "                                          track_href  \\\n",
       "0  https://api.spotify.com/v1/tracks/4xhsWYTOGcal...   \n",
       "1  https://api.spotify.com/v1/tracks/6ClYMObS7f3N...   \n",
       "2  https://api.spotify.com/v1/tracks/3rUGC1vUpkDG...   \n",
       "3  https://api.spotify.com/v1/tracks/2IGMVunIBsBL...   \n",
       "4  https://api.spotify.com/v1/tracks/4KULAymBBJcP...   \n",
       "\n",
       "                                        analysis_url duration_ms  \\\n",
       "0  https://api.spotify.com/v1/audio-analysis/4xhs...      138411   \n",
       "1  https://api.spotify.com/v1/audio-analysis/6ClY...      229567   \n",
       "2  https://api.spotify.com/v1/audio-analysis/3rUG...      131872   \n",
       "3  https://api.spotify.com/v1/audio-analysis/2IGM...      231750   \n",
       "4  https://api.spotify.com/v1/audio-analysis/4KUL...      227196   \n",
       "\n",
       "  time_signature  tag  hdbscan_cluster  dbscan_cluster  \n",
       "0              4  hot               17               0  \n",
       "1              4  hot               -1               1  \n",
       "2              1  hot              123               2  \n",
       "3              4  hot              240               1  \n",
       "4              4  hot              259               1  \n",
       "\n",
       "[5 rows x 23 columns]"
      ]
     },
     "execution_count": 10,
     "metadata": {},
     "output_type": "execute_result"
    }
   ],
   "source": [
    "all_songs.head()"
   ]
  },
  {
   "cell_type": "code",
   "execution_count": 11,
   "id": "8a525ec1",
   "metadata": {},
   "outputs": [],
   "source": [
    "all_songs['open_link'] = all_songs['id'].apply(lambda track_id: f'<a href=\"https://open.spotify.com/track/{track_id}\" target=\"_blank\">Click me</a>')"
   ]
  },
  {
   "cell_type": "code",
   "execution_count": 28,
   "id": "39926fae",
   "metadata": {},
   "outputs": [
    {
     "name": "stdout",
     "output_type": "stream",
     "text": [
      "Please enter the name of song: greedy\n"
     ]
    }
   ],
   "source": [
    "input_song = input(\"Please enter the name of song: \")"
   ]
  },
  {
   "cell_type": "code",
   "execution_count": null,
   "id": "abb064cf",
   "metadata": {},
   "outputs": [],
   "source": [
    "input_song"
   ]
  },
  {
   "cell_type": "code",
   "execution_count": 29,
   "id": "d11d5f9e",
   "metadata": {},
   "outputs": [],
   "source": [
    "five_songs = search_song_five(input_song)"
   ]
  },
  {
   "cell_type": "code",
   "execution_count": 30,
   "id": "122a6787",
   "metadata": {},
   "outputs": [
    {
     "data": {
      "text/html": [
       "<div>\n",
       "<style scoped>\n",
       "    .dataframe tbody tr th:only-of-type {\n",
       "        vertical-align: middle;\n",
       "    }\n",
       "\n",
       "    .dataframe tbody tr th {\n",
       "        vertical-align: top;\n",
       "    }\n",
       "\n",
       "    .dataframe thead th {\n",
       "        text-align: right;\n",
       "    }\n",
       "</style>\n",
       "<table border=\"1\" class=\"dataframe\">\n",
       "  <thead>\n",
       "    <tr style=\"text-align: right;\">\n",
       "      <th></th>\n",
       "      <th>title</th>\n",
       "      <th>artist</th>\n",
       "      <th>id</th>\n",
       "    </tr>\n",
       "  </thead>\n",
       "  <tbody>\n",
       "    <tr>\n",
       "      <th>0</th>\n",
       "      <td>greedy</td>\n",
       "      <td>Tate McRae</td>\n",
       "      <td>3rUGC1vUpkDG9CZFHMur1t</td>\n",
       "    </tr>\n",
       "    <tr>\n",
       "      <th>1</th>\n",
       "      <td>greedy</td>\n",
       "      <td>Tate McRae</td>\n",
       "      <td>4kfSXPK13aXkLzuz02hCSC</td>\n",
       "    </tr>\n",
       "    <tr>\n",
       "      <th>2</th>\n",
       "      <td>greedy</td>\n",
       "      <td>Tate McRae</td>\n",
       "      <td>2dHH3pG8xx0YOZDKyDD9eG</td>\n",
       "    </tr>\n",
       "    <tr>\n",
       "      <th>3</th>\n",
       "      <td>Greedy</td>\n",
       "      <td>Ariana Grande</td>\n",
       "      <td>1FFUXkoWIc9of8yOscGiaC</td>\n",
       "    </tr>\n",
       "    <tr>\n",
       "      <th>4</th>\n",
       "      <td>Greedy</td>\n",
       "      <td>King David, Tekno</td>\n",
       "      <td>1FnIaiMNOQPwcWZJC7gw6V</td>\n",
       "    </tr>\n",
       "  </tbody>\n",
       "</table>\n",
       "</div>"
      ],
      "text/plain": [
       "    title             artist                      id\n",
       "0  greedy         Tate McRae  3rUGC1vUpkDG9CZFHMur1t\n",
       "1  greedy         Tate McRae  4kfSXPK13aXkLzuz02hCSC\n",
       "2  greedy         Tate McRae  2dHH3pG8xx0YOZDKyDD9eG\n",
       "3  Greedy      Ariana Grande  1FFUXkoWIc9of8yOscGiaC\n",
       "4  Greedy  King David, Tekno  1FnIaiMNOQPwcWZJC7gw6V"
      ]
     },
     "execution_count": 30,
     "metadata": {},
     "output_type": "execute_result"
    }
   ],
   "source": [
    "five_songs"
   ]
  },
  {
   "cell_type": "code",
   "execution_count": 31,
   "id": "2003b20f",
   "metadata": {},
   "outputs": [
    {
     "name": "stdout",
     "output_type": "stream",
     "text": [
      "Please select the corresponding row: 0\n"
     ]
    }
   ],
   "source": [
    "row_selection = int(input(\"Please select the corresponding row: \"))"
   ]
  },
  {
   "cell_type": "code",
   "execution_count": null,
   "id": "2a511095",
   "metadata": {},
   "outputs": [],
   "source": [
    "row_selection"
   ]
  },
  {
   "cell_type": "code",
   "execution_count": 32,
   "id": "6755233d",
   "metadata": {},
   "outputs": [],
   "source": [
    "song_id = five_songs.iloc[row_selection,2]"
   ]
  },
  {
   "cell_type": "code",
   "execution_count": 33,
   "id": "62634a15",
   "metadata": {},
   "outputs": [
    {
     "data": {
      "text/plain": [
       "'3rUGC1vUpkDG9CZFHMur1t'"
      ]
     },
     "execution_count": 33,
     "metadata": {},
     "output_type": "execute_result"
    }
   ],
   "source": [
    "song_id"
   ]
  },
  {
   "cell_type": "code",
   "execution_count": 34,
   "id": "51d148d5",
   "metadata": {},
   "outputs": [
    {
     "name": "stdout",
     "output_type": "stream",
     "text": [
      "Collecting audio features for chunk...\n"
     ]
    }
   ],
   "source": [
    "audio_feat=get_audio_features_for_chunks(sp, song_id,sleep_time=0)"
   ]
  },
  {
   "cell_type": "code",
   "execution_count": 35,
   "id": "3da41713",
   "metadata": {},
   "outputs": [
    {
     "data": {
      "text/html": [
       "<div>\n",
       "<style scoped>\n",
       "    .dataframe tbody tr th:only-of-type {\n",
       "        vertical-align: middle;\n",
       "    }\n",
       "\n",
       "    .dataframe tbody tr th {\n",
       "        vertical-align: top;\n",
       "    }\n",
       "\n",
       "    .dataframe thead th {\n",
       "        text-align: right;\n",
       "    }\n",
       "</style>\n",
       "<table border=\"1\" class=\"dataframe\">\n",
       "  <thead>\n",
       "    <tr style=\"text-align: right;\">\n",
       "      <th></th>\n",
       "      <th>danceability</th>\n",
       "      <th>energy</th>\n",
       "      <th>key</th>\n",
       "      <th>loudness</th>\n",
       "      <th>mode</th>\n",
       "      <th>speechiness</th>\n",
       "      <th>acousticness</th>\n",
       "      <th>instrumentalness</th>\n",
       "      <th>liveness</th>\n",
       "      <th>valence</th>\n",
       "      <th>tempo</th>\n",
       "      <th>type</th>\n",
       "      <th>id</th>\n",
       "      <th>uri</th>\n",
       "      <th>track_href</th>\n",
       "      <th>analysis_url</th>\n",
       "      <th>duration_ms</th>\n",
       "      <th>time_signature</th>\n",
       "    </tr>\n",
       "  </thead>\n",
       "  <tbody>\n",
       "    <tr>\n",
       "      <th>0</th>\n",
       "      <td>0.75</td>\n",
       "      <td>0.733</td>\n",
       "      <td>6</td>\n",
       "      <td>-3.18</td>\n",
       "      <td>0</td>\n",
       "      <td>0.0319</td>\n",
       "      <td>0.256</td>\n",
       "      <td>0</td>\n",
       "      <td>0.114</td>\n",
       "      <td>0.844</td>\n",
       "      <td>111.018</td>\n",
       "      <td>audio_features</td>\n",
       "      <td>3rUGC1vUpkDG9CZFHMur1t</td>\n",
       "      <td>spotify:track:3rUGC1vUpkDG9CZFHMur1t</td>\n",
       "      <td>https://api.spotify.com/v1/tracks/3rUGC1vUpkDG...</td>\n",
       "      <td>https://api.spotify.com/v1/audio-analysis/3rUG...</td>\n",
       "      <td>131872</td>\n",
       "      <td>1</td>\n",
       "    </tr>\n",
       "  </tbody>\n",
       "</table>\n",
       "</div>"
      ],
      "text/plain": [
       "   danceability  energy  key  loudness  mode  speechiness  acousticness  \\\n",
       "0          0.75   0.733    6     -3.18     0       0.0319         0.256   \n",
       "\n",
       "   instrumentalness  liveness  valence    tempo            type  \\\n",
       "0                 0     0.114    0.844  111.018  audio_features   \n",
       "\n",
       "                       id                                   uri  \\\n",
       "0  3rUGC1vUpkDG9CZFHMur1t  spotify:track:3rUGC1vUpkDG9CZFHMur1t   \n",
       "\n",
       "                                          track_href  \\\n",
       "0  https://api.spotify.com/v1/tracks/3rUGC1vUpkDG...   \n",
       "\n",
       "                                        analysis_url  duration_ms  \\\n",
       "0  https://api.spotify.com/v1/audio-analysis/3rUG...       131872   \n",
       "\n",
       "   time_signature  \n",
       "0               1  "
      ]
     },
     "execution_count": 35,
     "metadata": {},
     "output_type": "execute_result"
    }
   ],
   "source": [
    "audio_feat"
   ]
  },
  {
   "cell_type": "code",
   "execution_count": 36,
   "id": "c7a83047",
   "metadata": {},
   "outputs": [],
   "source": [
    "X = audio_feat.select_dtypes(np.number)"
   ]
  },
  {
   "cell_type": "code",
   "execution_count": 37,
   "id": "e9db8f5f",
   "metadata": {},
   "outputs": [
    {
     "data": {
      "text/html": [
       "<div>\n",
       "<style scoped>\n",
       "    .dataframe tbody tr th:only-of-type {\n",
       "        vertical-align: middle;\n",
       "    }\n",
       "\n",
       "    .dataframe tbody tr th {\n",
       "        vertical-align: top;\n",
       "    }\n",
       "\n",
       "    .dataframe thead th {\n",
       "        text-align: right;\n",
       "    }\n",
       "</style>\n",
       "<table border=\"1\" class=\"dataframe\">\n",
       "  <thead>\n",
       "    <tr style=\"text-align: right;\">\n",
       "      <th></th>\n",
       "      <th>danceability</th>\n",
       "      <th>energy</th>\n",
       "      <th>key</th>\n",
       "      <th>loudness</th>\n",
       "      <th>mode</th>\n",
       "      <th>speechiness</th>\n",
       "      <th>acousticness</th>\n",
       "      <th>instrumentalness</th>\n",
       "      <th>liveness</th>\n",
       "      <th>valence</th>\n",
       "      <th>tempo</th>\n",
       "      <th>duration_ms</th>\n",
       "      <th>time_signature</th>\n",
       "    </tr>\n",
       "  </thead>\n",
       "  <tbody>\n",
       "    <tr>\n",
       "      <th>0</th>\n",
       "      <td>0.75</td>\n",
       "      <td>0.733</td>\n",
       "      <td>6</td>\n",
       "      <td>-3.18</td>\n",
       "      <td>0</td>\n",
       "      <td>0.0319</td>\n",
       "      <td>0.256</td>\n",
       "      <td>0</td>\n",
       "      <td>0.114</td>\n",
       "      <td>0.844</td>\n",
       "      <td>111.018</td>\n",
       "      <td>131872</td>\n",
       "      <td>1</td>\n",
       "    </tr>\n",
       "  </tbody>\n",
       "</table>\n",
       "</div>"
      ],
      "text/plain": [
       "   danceability  energy  key  loudness  mode  speechiness  acousticness  \\\n",
       "0          0.75   0.733    6     -3.18     0       0.0319         0.256   \n",
       "\n",
       "   instrumentalness  liveness  valence    tempo  duration_ms  time_signature  \n",
       "0                 0     0.114    0.844  111.018       131872               1  "
      ]
     },
     "execution_count": 37,
     "metadata": {},
     "output_type": "execute_result"
    }
   ],
   "source": [
    "X"
   ]
  },
  {
   "cell_type": "markdown",
   "id": "0353f600",
   "metadata": {},
   "source": [
    "def scale_and_save(X, filename=\"scaler_v1.pickle\"):\n",
    "    \"\"\"\n",
    "    Scale the input data using StandardScaler, save the scaler object,\n",
    "    and return the scaled data as a DataFrame.\n",
    "\n",
    "    Parameters:\n",
    "    - X: Input data (DataFrame or array-like)\n",
    "    - filename: Path to save the scaler object (default: \"scaler_v1.pickle\")\n",
    "\n",
    "    Returns:\n",
    "    - X_scaled_df: Scaled data as a DataFrame\n",
    "    \"\"\"\n",
    "\n",
    "    # Initialize StandardScaler\n",
    "    scaler = StandardScaler()\n",
    "\n",
    "    # Fit and transform the data\n",
    "    X_scaled = scaler.fit_transform(X)\n",
    "\n",
    "    # Save the scaler object to a file\n",
    "    with open(filename, \"wb\") as file:\n",
    "        pickle.dump(scaler, file)\n",
    "\n",
    "    # Convert the scaled data to a DataFrame with column names\n",
    "    X_scaled_df = pd.DataFrame(X_scaled, columns=X.columns)\n",
    "\n",
    "    return X_scaled_df"
   ]
  },
  {
   "cell_type": "code",
   "execution_count": 40,
   "id": "595c27d0",
   "metadata": {},
   "outputs": [
    {
     "ename": "NameError",
     "evalue": "name 'StandardScaler' is not defined",
     "output_type": "error",
     "traceback": [
      "\u001b[1;31m---------------------------------------------------------------------------\u001b[0m",
      "\u001b[1;31mNameError\u001b[0m                                 Traceback (most recent call last)",
      "Cell \u001b[1;32mIn[40], line 1\u001b[0m\n\u001b[1;32m----> 1\u001b[0m scaling_w_function\u001b[38;5;241m=\u001b[39mscale_and_save(X, \u001b[38;5;124m\"\u001b[39m\u001b[38;5;124mscaler_v1.pickle\u001b[39m\u001b[38;5;124m\"\u001b[39m)\n",
      "File \u001b[1;32m~\\OneDrive - EXPONDO\\Ironhack\\Weeks\\Week_6\\Song_recommender\\song_recommender\\functions.py:139\u001b[0m, in \u001b[0;36mscale_and_save\u001b[1;34m(X, filename)\u001b[0m\n\u001b[0;32m    126\u001b[0m \u001b[38;5;250m\u001b[39m\u001b[38;5;124;03m\"\"\"\u001b[39;00m\n\u001b[0;32m    127\u001b[0m \u001b[38;5;124;03mScale the input data using StandardScaler, save the scaler object,\u001b[39;00m\n\u001b[0;32m    128\u001b[0m \u001b[38;5;124;03mand return the scaled data as a DataFrame.\u001b[39;00m\n\u001b[1;32m   (...)\u001b[0m\n\u001b[0;32m    135\u001b[0m \u001b[38;5;124;03m- X_scaled_df: Scaled data as a DataFrame\u001b[39;00m\n\u001b[0;32m    136\u001b[0m \u001b[38;5;124;03m\"\"\"\u001b[39;00m\n\u001b[0;32m    138\u001b[0m \u001b[38;5;66;03m# Initialize StandardScaler\u001b[39;00m\n\u001b[1;32m--> 139\u001b[0m scaler \u001b[38;5;241m=\u001b[39m StandardScaler()\n\u001b[0;32m    141\u001b[0m \u001b[38;5;66;03m# Fit and transform the data\u001b[39;00m\n\u001b[0;32m    142\u001b[0m X_scaled \u001b[38;5;241m=\u001b[39m scaler\u001b[38;5;241m.\u001b[39mfit_transform(X)\n",
      "\u001b[1;31mNameError\u001b[0m: name 'StandardScaler' is not defined"
     ]
    }
   ],
   "source": [
    "scaling_w_function=scale_and_save(X, \"scaler_v1.pickle\")"
   ]
  },
  {
   "cell_type": "code",
   "execution_count": null,
   "id": "967ba036",
   "metadata": {},
   "outputs": [],
   "source": [
    "scaling_w_function"
   ]
  },
  {
   "cell_type": "code",
   "execution_count": 41,
   "id": "7bb99a17",
   "metadata": {},
   "outputs": [
    {
     "data": {
      "text/html": [
       "<div>\n",
       "<style scoped>\n",
       "    .dataframe tbody tr th:only-of-type {\n",
       "        vertical-align: middle;\n",
       "    }\n",
       "\n",
       "    .dataframe tbody tr th {\n",
       "        vertical-align: top;\n",
       "    }\n",
       "\n",
       "    .dataframe thead th {\n",
       "        text-align: right;\n",
       "    }\n",
       "</style>\n",
       "<table border=\"1\" class=\"dataframe\">\n",
       "  <thead>\n",
       "    <tr style=\"text-align: right;\">\n",
       "      <th></th>\n",
       "      <th>danceability</th>\n",
       "      <th>energy</th>\n",
       "      <th>key</th>\n",
       "      <th>loudness</th>\n",
       "      <th>mode</th>\n",
       "      <th>speechiness</th>\n",
       "      <th>acousticness</th>\n",
       "      <th>instrumentalness</th>\n",
       "      <th>liveness</th>\n",
       "      <th>valence</th>\n",
       "      <th>tempo</th>\n",
       "      <th>duration_ms</th>\n",
       "      <th>time_signature</th>\n",
       "    </tr>\n",
       "  </thead>\n",
       "  <tbody>\n",
       "    <tr>\n",
       "      <th>0</th>\n",
       "      <td>0.75</td>\n",
       "      <td>0.733</td>\n",
       "      <td>6</td>\n",
       "      <td>-3.18</td>\n",
       "      <td>0</td>\n",
       "      <td>0.0319</td>\n",
       "      <td>0.256</td>\n",
       "      <td>0</td>\n",
       "      <td>0.114</td>\n",
       "      <td>0.844</td>\n",
       "      <td>111.018</td>\n",
       "      <td>131872</td>\n",
       "      <td>1</td>\n",
       "    </tr>\n",
       "  </tbody>\n",
       "</table>\n",
       "</div>"
      ],
      "text/plain": [
       "   danceability  energy  key  loudness  mode  speechiness  acousticness  \\\n",
       "0          0.75   0.733    6     -3.18     0       0.0319         0.256   \n",
       "\n",
       "   instrumentalness  liveness  valence    tempo  duration_ms  time_signature  \n",
       "0                 0     0.114    0.844  111.018       131872               1  "
      ]
     },
     "metadata": {},
     "output_type": "display_data"
    },
    {
     "name": "stdout",
     "output_type": "stream",
     "text": [
      "\n"
     ]
    },
    {
     "data": {
      "text/html": [
       "<div>\n",
       "<style scoped>\n",
       "    .dataframe tbody tr th:only-of-type {\n",
       "        vertical-align: middle;\n",
       "    }\n",
       "\n",
       "    .dataframe tbody tr th {\n",
       "        vertical-align: top;\n",
       "    }\n",
       "\n",
       "    .dataframe thead th {\n",
       "        text-align: right;\n",
       "    }\n",
       "</style>\n",
       "<table border=\"1\" class=\"dataframe\">\n",
       "  <thead>\n",
       "    <tr style=\"text-align: right;\">\n",
       "      <th></th>\n",
       "      <th>danceability</th>\n",
       "      <th>energy</th>\n",
       "      <th>key</th>\n",
       "      <th>loudness</th>\n",
       "      <th>mode</th>\n",
       "      <th>speechiness</th>\n",
       "      <th>acousticness</th>\n",
       "      <th>instrumentalness</th>\n",
       "      <th>liveness</th>\n",
       "      <th>valence</th>\n",
       "      <th>tempo</th>\n",
       "      <th>duration_ms</th>\n",
       "      <th>time_signature</th>\n",
       "    </tr>\n",
       "  </thead>\n",
       "  <tbody>\n",
       "    <tr>\n",
       "      <th>0</th>\n",
       "      <td>0.0</td>\n",
       "      <td>0.0</td>\n",
       "      <td>0.0</td>\n",
       "      <td>0.0</td>\n",
       "      <td>0.0</td>\n",
       "      <td>0.0</td>\n",
       "      <td>0.0</td>\n",
       "      <td>0.0</td>\n",
       "      <td>0.0</td>\n",
       "      <td>0.0</td>\n",
       "      <td>0.0</td>\n",
       "      <td>0.0</td>\n",
       "      <td>0.0</td>\n",
       "    </tr>\n",
       "  </tbody>\n",
       "</table>\n",
       "</div>"
      ],
      "text/plain": [
       "   danceability  energy  key  loudness  mode  speechiness  acousticness  \\\n",
       "0           0.0     0.0  0.0       0.0   0.0          0.0           0.0   \n",
       "\n",
       "   instrumentalness  liveness  valence  tempo  duration_ms  time_signature  \n",
       "0               0.0       0.0      0.0    0.0          0.0             0.0  "
      ]
     },
     "metadata": {},
     "output_type": "display_data"
    }
   ],
   "source": [
    "scaler = StandardScaler()\n",
    "scaler.fit(X)\n",
    "X_scaled = scaler.transform(X)\n",
    "filename = \"scaler_v1.pickle\" # Path with filename\n",
    "\n",
    "with open(filename, \"wb\") as file:\n",
    "        pickle.dump(scaler,file)\n",
    "\n",
    "X_scaled_df = pd.DataFrame(X_scaled, columns = X.columns)\n",
    "display(X.head())\n",
    "print()\n",
    "display(X_scaled_df.head())"
   ]
  },
  {
   "cell_type": "code",
   "execution_count": null,
   "id": "d3f575ad",
   "metadata": {},
   "outputs": [],
   "source": [
    "X_scaled"
   ]
  },
  {
   "cell_type": "code",
   "execution_count": 15,
   "id": "f9c6095d",
   "metadata": {},
   "outputs": [],
   "source": [
    "# We load the UMAP dimension reduction, which seems to be the one performing the best, as we saw on the previous lab\n",
    "\n",
    "with open('umap.pickle', 'rb') as file:\n",
    "    umap_model = pickle.load(file)"
   ]
  },
  {
   "cell_type": "code",
   "execution_count": 45,
   "id": "9e67f912",
   "metadata": {},
   "outputs": [],
   "source": [
    "scaler = StandardScaler()"
   ]
  },
  {
   "cell_type": "code",
   "execution_count": 46,
   "id": "dce09627",
   "metadata": {},
   "outputs": [],
   "source": [
    "umap_representation = umap_model.transform(X)"
   ]
  },
  {
   "cell_type": "code",
   "execution_count": 47,
   "id": "972d912e",
   "metadata": {},
   "outputs": [
    {
     "data": {
      "text/plain": [
       "array([[-1.9421761, 19.24299  ]], dtype=float32)"
      ]
     },
     "execution_count": 47,
     "metadata": {},
     "output_type": "execute_result"
    }
   ],
   "source": [
    "umap_representation"
   ]
  },
  {
   "cell_type": "code",
   "execution_count": 48,
   "id": "e525e6f0",
   "metadata": {},
   "outputs": [],
   "source": [
    "user_song_umap_df= pd.DataFrame(umap_representation,columns=[\"UMAP_1\",\"UMAP_2\"])"
   ]
  },
  {
   "cell_type": "code",
   "execution_count": 49,
   "id": "38ad6e32",
   "metadata": {},
   "outputs": [
    {
     "data": {
      "text/html": [
       "<div>\n",
       "<style scoped>\n",
       "    .dataframe tbody tr th:only-of-type {\n",
       "        vertical-align: middle;\n",
       "    }\n",
       "\n",
       "    .dataframe tbody tr th {\n",
       "        vertical-align: top;\n",
       "    }\n",
       "\n",
       "    .dataframe thead th {\n",
       "        text-align: right;\n",
       "    }\n",
       "</style>\n",
       "<table border=\"1\" class=\"dataframe\">\n",
       "  <thead>\n",
       "    <tr style=\"text-align: right;\">\n",
       "      <th></th>\n",
       "      <th>UMAP_1</th>\n",
       "      <th>UMAP_2</th>\n",
       "    </tr>\n",
       "  </thead>\n",
       "  <tbody>\n",
       "    <tr>\n",
       "      <th>0</th>\n",
       "      <td>-1.942176</td>\n",
       "      <td>19.24299</td>\n",
       "    </tr>\n",
       "  </tbody>\n",
       "</table>\n",
       "</div>"
      ],
      "text/plain": [
       "     UMAP_1    UMAP_2\n",
       "0 -1.942176  19.24299"
      ]
     },
     "execution_count": 49,
     "metadata": {},
     "output_type": "execute_result"
    }
   ],
   "source": [
    "user_song_umap_df.head()"
   ]
  },
  {
   "cell_type": "code",
   "execution_count": 50,
   "id": "3bf7ccee",
   "metadata": {},
   "outputs": [],
   "source": [
    "X_umap_transformed_df = pd.read_csv(\"umap_df.csv\")"
   ]
  },
  {
   "cell_type": "code",
   "execution_count": 51,
   "id": "6ee8ad88",
   "metadata": {},
   "outputs": [
    {
     "data": {
      "text/html": [
       "<div>\n",
       "<style scoped>\n",
       "    .dataframe tbody tr th:only-of-type {\n",
       "        vertical-align: middle;\n",
       "    }\n",
       "\n",
       "    .dataframe tbody tr th {\n",
       "        vertical-align: top;\n",
       "    }\n",
       "\n",
       "    .dataframe thead th {\n",
       "        text-align: right;\n",
       "    }\n",
       "</style>\n",
       "<table border=\"1\" class=\"dataframe\">\n",
       "  <thead>\n",
       "    <tr style=\"text-align: right;\">\n",
       "      <th></th>\n",
       "      <th>UMAP_1</th>\n",
       "      <th>UMAP_2</th>\n",
       "      <th>cluster</th>\n",
       "    </tr>\n",
       "  </thead>\n",
       "  <tbody>\n",
       "    <tr>\n",
       "      <th>0</th>\n",
       "      <td>1.329508</td>\n",
       "      <td>22.825453</td>\n",
       "      <td>-1</td>\n",
       "    </tr>\n",
       "    <tr>\n",
       "      <th>1</th>\n",
       "      <td>1.425039</td>\n",
       "      <td>22.725520</td>\n",
       "      <td>36</td>\n",
       "    </tr>\n",
       "    <tr>\n",
       "      <th>2</th>\n",
       "      <td>1.387273</td>\n",
       "      <td>22.768833</td>\n",
       "      <td>61</td>\n",
       "    </tr>\n",
       "    <tr>\n",
       "      <th>3</th>\n",
       "      <td>1.469725</td>\n",
       "      <td>22.683939</td>\n",
       "      <td>7</td>\n",
       "    </tr>\n",
       "    <tr>\n",
       "      <th>4</th>\n",
       "      <td>1.356548</td>\n",
       "      <td>22.794370</td>\n",
       "      <td>-1</td>\n",
       "    </tr>\n",
       "  </tbody>\n",
       "</table>\n",
       "</div>"
      ],
      "text/plain": [
       "     UMAP_1     UMAP_2  cluster\n",
       "0  1.329508  22.825453       -1\n",
       "1  1.425039  22.725520       36\n",
       "2  1.387273  22.768833       61\n",
       "3  1.469725  22.683939        7\n",
       "4  1.356548  22.794370       -1"
      ]
     },
     "execution_count": 51,
     "metadata": {},
     "output_type": "execute_result"
    }
   ],
   "source": [
    "X_umap_transformed_df.head()"
   ]
  },
  {
   "cell_type": "code",
   "execution_count": 52,
   "id": "984f0b07",
   "metadata": {},
   "outputs": [],
   "source": [
    "X_umap_transformed_df_no_cluster = X_umap_transformed_df.drop(columns=\"cluster\")"
   ]
  },
  {
   "cell_type": "code",
   "execution_count": 53,
   "id": "15579789",
   "metadata": {},
   "outputs": [
    {
     "data": {
      "text/html": [
       "<div>\n",
       "<style scoped>\n",
       "    .dataframe tbody tr th:only-of-type {\n",
       "        vertical-align: middle;\n",
       "    }\n",
       "\n",
       "    .dataframe tbody tr th {\n",
       "        vertical-align: top;\n",
       "    }\n",
       "\n",
       "    .dataframe thead th {\n",
       "        text-align: right;\n",
       "    }\n",
       "</style>\n",
       "<table border=\"1\" class=\"dataframe\">\n",
       "  <thead>\n",
       "    <tr style=\"text-align: right;\">\n",
       "      <th></th>\n",
       "      <th>UMAP_1</th>\n",
       "      <th>UMAP_2</th>\n",
       "    </tr>\n",
       "  </thead>\n",
       "  <tbody>\n",
       "    <tr>\n",
       "      <th>0</th>\n",
       "      <td>1.329508</td>\n",
       "      <td>22.825453</td>\n",
       "    </tr>\n",
       "    <tr>\n",
       "      <th>1</th>\n",
       "      <td>1.425039</td>\n",
       "      <td>22.725520</td>\n",
       "    </tr>\n",
       "    <tr>\n",
       "      <th>2</th>\n",
       "      <td>1.387273</td>\n",
       "      <td>22.768833</td>\n",
       "    </tr>\n",
       "    <tr>\n",
       "      <th>3</th>\n",
       "      <td>1.469725</td>\n",
       "      <td>22.683939</td>\n",
       "    </tr>\n",
       "    <tr>\n",
       "      <th>4</th>\n",
       "      <td>1.356548</td>\n",
       "      <td>22.794370</td>\n",
       "    </tr>\n",
       "  </tbody>\n",
       "</table>\n",
       "</div>"
      ],
      "text/plain": [
       "     UMAP_1     UMAP_2\n",
       "0  1.329508  22.825453\n",
       "1  1.425039  22.725520\n",
       "2  1.387273  22.768833\n",
       "3  1.469725  22.683939\n",
       "4  1.356548  22.794370"
      ]
     },
     "execution_count": 53,
     "metadata": {},
     "output_type": "execute_result"
    }
   ],
   "source": [
    "X_umap_transformed_df_no_cluster.head()"
   ]
  },
  {
   "cell_type": "code",
   "execution_count": 54,
   "id": "ef36c10b",
   "metadata": {},
   "outputs": [],
   "source": [
    "d = distance_matrix(user_song_umap_df, X_umap_transformed_df_no_cluster) #numpy array\n",
    "closest_song_to_user_song = np.argmin(d)"
   ]
  },
  {
   "cell_type": "code",
   "execution_count": 55,
   "id": "1f39b7f0",
   "metadata": {},
   "outputs": [
    {
     "data": {
      "text/plain": [
       "1248"
      ]
     },
     "execution_count": 55,
     "metadata": {},
     "output_type": "execute_result"
    }
   ],
   "source": [
    "closest_song_to_user_song"
   ]
  },
  {
   "cell_type": "code",
   "execution_count": 56,
   "id": "081f6a12",
   "metadata": {},
   "outputs": [],
   "source": [
    "user_song_cluster = closest_song_to_user_song"
   ]
  },
  {
   "cell_type": "code",
   "execution_count": 57,
   "id": "7218fef5",
   "metadata": {},
   "outputs": [
    {
     "data": {
      "text/plain": [
       "1248"
      ]
     },
     "execution_count": 57,
     "metadata": {},
     "output_type": "execute_result"
    }
   ],
   "source": [
    "user_song_cluster"
   ]
  },
  {
   "cell_type": "code",
   "execution_count": 63,
   "id": "2cc941e8",
   "metadata": {},
   "outputs": [
    {
     "data": {
      "text/plain": [
       "-1"
      ]
     },
     "execution_count": 63,
     "metadata": {},
     "output_type": "execute_result"
    }
   ],
   "source": [
    "X_umap_transformed_df.loc[1248,\"cluster\"]"
   ]
  },
  {
   "cell_type": "code",
   "execution_count": 61,
   "id": "bde29d5f",
   "metadata": {},
   "outputs": [
    {
     "data": {
      "text/plain": [
       "53"
      ]
     },
     "execution_count": 61,
     "metadata": {},
     "output_type": "execute_result"
    }
   ],
   "source": [
    "all_songs.loc[598,\"dbscan_cluster\"]"
   ]
  },
  {
   "cell_type": "code",
   "execution_count": 62,
   "id": "4c1237c8",
   "metadata": {},
   "outputs": [
    {
     "ename": "NameError",
     "evalue": "name 'song_cluster' is not defined",
     "output_type": "error",
     "traceback": [
      "\u001b[1;31m---------------------------------------------------------------------------\u001b[0m",
      "\u001b[1;31mNameError\u001b[0m                                 Traceback (most recent call last)",
      "Cell \u001b[1;32mIn[62], line 1\u001b[0m\n\u001b[1;32m----> 1\u001b[0m song_cluster\n",
      "\u001b[1;31mNameError\u001b[0m: name 'song_cluster' is not defined"
     ]
    }
   ],
   "source": [
    "song_cluster"
   ]
  },
  {
   "cell_type": "markdown",
   "id": "1fb4215c",
   "metadata": {},
   "source": [
    "def get_records_by_id_and_cluster(df, target_id, cluster_variable):\n",
    "    # Check if the target_id is present in the ID column with the \"hot\" tag\n",
    "    hot_records = df[(df['id'] == target_id) & (df['tag'] == 'hot')]\n",
    "\n",
    "    if not hot_records.empty:\n",
    "        # If \"hot\" records exist, return 5 records from the specific cluster\n",
    "        hot_cluster_records = df[(df['tag'] == 'hot') & (df['hdbscan_cluster'] == cluster_variable)].sample(5)\n",
    "        return hot_cluster_records\n",
    "    else:\n",
    "        # If \"not_hot\" records, return 5 records from the specific cluster\n",
    "        not_hot_cluster_records = df[(df['tag'] == 'not_hot') & (df['hdbscan_cluster'] == cluster_variable)].sample(5)\n",
    "        return not_hot_cluster_records"
   ]
  },
  {
   "cell_type": "markdown",
   "id": "c7efa5b4",
   "metadata": {},
   "source": [
    "get_records_by_id_and_cluster(all_songs,song_id,song_cluster)"
   ]
  },
  {
   "cell_type": "markdown",
   "id": "51371d77",
   "metadata": {},
   "source": [
    "hot_records = all_songs[(all_songs['id'] == song_id) & (all_songs['tag'] == 'hot')]\n",
    "\n",
    "if not hot_records.empty:\n",
    "    # If \"hot\" records exist, return 5 records from the specific cluster\n",
    "    hot_cluster_records = all_songs[(all_songs['tag'] == 'hot') & (all_songs['hdbscan_cluster'] == song_cluster)].sample(5)\n",
    "    display(hot_cluster_records)\n",
    "else:\n",
    "    # If \"not_hot\" records, return 5 records from the specific cluster\n",
    "    not_hot_cluster_records = all_songs[(all_songs['tag'] == 'not_hot') & (all_songs['hdbscan_cluster'] == song_cluster)].sample(5)\n",
    "    display(not_hot_cluster_records)"
   ]
  },
  {
   "cell_type": "code",
   "execution_count": null,
   "id": "522478f5",
   "metadata": {},
   "outputs": [],
   "source": [
    "# Call the function to get audio features with a list of 1 id (user_song_id)\n",
    "# Transform the user_song_audio_features\n",
    "# Transform the features with UMAP\n",
    "# Predict tghe user_song_cluster\n",
    "# Determine if the user_song is hot (check is the user_song_id is amoung the hot_songs_ids)\n",
    "# Idf[(full_df['set']==\"Hot\") & (full_df['hdbscan_cluster']==user_son_cluster)].sample(5)\n",
    "# If not, full_df[(full_df['set']==\"Not Hot\") & (full_df['hdbscan_cluster']==user_son_cluster)].sample(5)\n",
    "# ASk the user if he/she wants another recommendation, and update user_answerF so, full_\n",
    "\n",
    "# https://open.spotify.com/track/id"
   ]
  },
  {
   "cell_type": "code",
   "execution_count": 65,
   "id": "1b8eacc4",
   "metadata": {},
   "outputs": [
    {
     "name": "stdout",
     "output_type": "stream",
     "text": [
      "Please enter your song: greedy\n"
     ]
    },
    {
     "data": {
      "text/html": [
       "<div>\n",
       "<style scoped>\n",
       "    .dataframe tbody tr th:only-of-type {\n",
       "        vertical-align: middle;\n",
       "    }\n",
       "\n",
       "    .dataframe tbody tr th {\n",
       "        vertical-align: top;\n",
       "    }\n",
       "\n",
       "    .dataframe thead th {\n",
       "        text-align: right;\n",
       "    }\n",
       "</style>\n",
       "<table border=\"1\" class=\"dataframe\">\n",
       "  <thead>\n",
       "    <tr style=\"text-align: right;\">\n",
       "      <th></th>\n",
       "      <th>title</th>\n",
       "      <th>artist</th>\n",
       "    </tr>\n",
       "  </thead>\n",
       "  <tbody>\n",
       "    <tr>\n",
       "      <th>0</th>\n",
       "      <td>greedy</td>\n",
       "      <td>Tate McRae</td>\n",
       "    </tr>\n",
       "    <tr>\n",
       "      <th>1</th>\n",
       "      <td>greedy</td>\n",
       "      <td>Tate McRae</td>\n",
       "    </tr>\n",
       "    <tr>\n",
       "      <th>2</th>\n",
       "      <td>greedy</td>\n",
       "      <td>Tate McRae</td>\n",
       "    </tr>\n",
       "    <tr>\n",
       "      <th>3</th>\n",
       "      <td>Greedy</td>\n",
       "      <td>Ariana Grande</td>\n",
       "    </tr>\n",
       "    <tr>\n",
       "      <th>4</th>\n",
       "      <td>Greedy</td>\n",
       "      <td>King David, Tekno</td>\n",
       "    </tr>\n",
       "  </tbody>\n",
       "</table>\n",
       "</div>"
      ],
      "text/plain": [
       "    title             artist\n",
       "0  greedy         Tate McRae\n",
       "1  greedy         Tate McRae\n",
       "2  greedy         Tate McRae\n",
       "3  Greedy      Ariana Grande\n",
       "4  Greedy  King David, Tekno"
      ]
     },
     "metadata": {},
     "output_type": "display_data"
    },
    {
     "name": "stdout",
     "output_type": "stream",
     "text": [
      "Please select your track from, giving a number between 0 and 4:0\n",
      "Collecting audio features for chunk...\n"
     ]
    },
    {
     "ename": "ValueError",
     "evalue": "a must be greater than 0 unless no samples are taken",
     "output_type": "error",
     "traceback": [
      "\u001b[1;31m---------------------------------------------------------------------------\u001b[0m",
      "\u001b[1;31mValueError\u001b[0m                                Traceback (most recent call last)",
      "Cell \u001b[1;32mIn[65], line 1\u001b[0m\n\u001b[1;32m----> 1\u001b[0m main()\n",
      "Cell \u001b[1;32mIn[64], line 48\u001b[0m, in \u001b[0;36mmain\u001b[1;34m()\u001b[0m\n\u001b[0;32m     45\u001b[0m closest_song_to_user_song \u001b[38;5;241m=\u001b[39m np\u001b[38;5;241m.\u001b[39margmin(d)\n\u001b[0;32m     46\u001b[0m cluster\u001b[38;5;241m=\u001b[39mX_umap_transformed_df\u001b[38;5;241m.\u001b[39miloc[closest_song_to_user_song,\u001b[38;5;241m-\u001b[39m\u001b[38;5;241m1\u001b[39m]\n\u001b[1;32m---> 48\u001b[0m recommended_songs\u001b[38;5;241m=\u001b[39mget_records_by_id_and_cluster(all_songs,song_id,cluster)\n\u001b[0;32m     49\u001b[0m recommended_songs \u001b[38;5;241m=\u001b[39m recommended_songs[[\u001b[38;5;124m\"\u001b[39m\u001b[38;5;124martist\u001b[39m\u001b[38;5;124m\"\u001b[39m,\u001b[38;5;124m\"\u001b[39m\u001b[38;5;124mtitle\u001b[39m\u001b[38;5;124m\"\u001b[39m,\u001b[38;5;124m\"\u001b[39m\u001b[38;5;124mopen_link\u001b[39m\u001b[38;5;124m\"\u001b[39m]]\n\u001b[0;32m     51\u001b[0m \u001b[38;5;28mprint\u001b[39m(\u001b[38;5;124m\"\u001b[39m\u001b[38;5;124mPlease check the recommendations we have selected for you:\u001b[39m\u001b[38;5;130;01m\\n\u001b[39;00m\u001b[38;5;130;01m\\n\u001b[39;00m\u001b[38;5;124m\"\u001b[39m)\n",
      "File \u001b[1;32m~\\OneDrive - EXPONDO\\Ironhack\\Weeks\\Week_6\\Song_recommender\\song_recommender\\functions.py:117\u001b[0m, in \u001b[0;36mget_records_by_id_and_cluster\u001b[1;34m(df, target_id, cluster_variable)\u001b[0m\n\u001b[0;32m    113\u001b[0m hot_records \u001b[38;5;241m=\u001b[39m df[(df[\u001b[38;5;124m'\u001b[39m\u001b[38;5;124mid\u001b[39m\u001b[38;5;124m'\u001b[39m] \u001b[38;5;241m==\u001b[39m target_id) \u001b[38;5;241m&\u001b[39m (df[\u001b[38;5;124m'\u001b[39m\u001b[38;5;124mtag\u001b[39m\u001b[38;5;124m'\u001b[39m] \u001b[38;5;241m==\u001b[39m \u001b[38;5;124m'\u001b[39m\u001b[38;5;124mhot\u001b[39m\u001b[38;5;124m'\u001b[39m)]\n\u001b[0;32m    115\u001b[0m \u001b[38;5;28;01mif\u001b[39;00m \u001b[38;5;129;01mnot\u001b[39;00m hot_records\u001b[38;5;241m.\u001b[39mempty:\n\u001b[0;32m    116\u001b[0m     \u001b[38;5;66;03m# If \"hot\" records exist, return 5 records from the specific cluster\u001b[39;00m\n\u001b[1;32m--> 117\u001b[0m     hot_cluster_records \u001b[38;5;241m=\u001b[39m df[(df[\u001b[38;5;124m'\u001b[39m\u001b[38;5;124mtag\u001b[39m\u001b[38;5;124m'\u001b[39m] \u001b[38;5;241m==\u001b[39m \u001b[38;5;124m'\u001b[39m\u001b[38;5;124mhot\u001b[39m\u001b[38;5;124m'\u001b[39m) \u001b[38;5;241m&\u001b[39m (df[\u001b[38;5;124m'\u001b[39m\u001b[38;5;124mhdbscan_cluster\u001b[39m\u001b[38;5;124m'\u001b[39m] \u001b[38;5;241m==\u001b[39m cluster_variable)]\u001b[38;5;241m.\u001b[39msample(\u001b[38;5;241m5\u001b[39m)\n\u001b[0;32m    118\u001b[0m     \u001b[38;5;28;01mreturn\u001b[39;00m hot_cluster_records\n\u001b[0;32m    119\u001b[0m \u001b[38;5;28;01melse\u001b[39;00m:\n\u001b[0;32m    120\u001b[0m     \u001b[38;5;66;03m# If \"not_hot\" records, return 5 records from the specific cluster\u001b[39;00m\n",
      "File \u001b[1;32m~\\AppData\\Local\\anaconda3\\Lib\\site-packages\\pandas\\core\\generic.py:5858\u001b[0m, in \u001b[0;36mNDFrame.sample\u001b[1;34m(self, n, frac, replace, weights, random_state, axis, ignore_index)\u001b[0m\n\u001b[0;32m   5855\u001b[0m \u001b[38;5;28;01mif\u001b[39;00m weights \u001b[38;5;129;01mis\u001b[39;00m \u001b[38;5;129;01mnot\u001b[39;00m \u001b[38;5;28;01mNone\u001b[39;00m:\n\u001b[0;32m   5856\u001b[0m     weights \u001b[38;5;241m=\u001b[39m sample\u001b[38;5;241m.\u001b[39mpreprocess_weights(\u001b[38;5;28mself\u001b[39m, weights, axis)\n\u001b[1;32m-> 5858\u001b[0m sampled_indices \u001b[38;5;241m=\u001b[39m sample\u001b[38;5;241m.\u001b[39msample(obj_len, size, replace, weights, rs)\n\u001b[0;32m   5859\u001b[0m result \u001b[38;5;241m=\u001b[39m \u001b[38;5;28mself\u001b[39m\u001b[38;5;241m.\u001b[39mtake(sampled_indices, axis\u001b[38;5;241m=\u001b[39maxis)\n\u001b[0;32m   5861\u001b[0m \u001b[38;5;28;01mif\u001b[39;00m ignore_index:\n",
      "File \u001b[1;32m~\\AppData\\Local\\anaconda3\\Lib\\site-packages\\pandas\\core\\sample.py:151\u001b[0m, in \u001b[0;36msample\u001b[1;34m(obj_len, size, replace, weights, random_state)\u001b[0m\n\u001b[0;32m    148\u001b[0m     \u001b[38;5;28;01melse\u001b[39;00m:\n\u001b[0;32m    149\u001b[0m         \u001b[38;5;28;01mraise\u001b[39;00m \u001b[38;5;167;01mValueError\u001b[39;00m(\u001b[38;5;124m\"\u001b[39m\u001b[38;5;124mInvalid weights: weights sum to zero\u001b[39m\u001b[38;5;124m\"\u001b[39m)\n\u001b[1;32m--> 151\u001b[0m \u001b[38;5;28;01mreturn\u001b[39;00m random_state\u001b[38;5;241m.\u001b[39mchoice(obj_len, size\u001b[38;5;241m=\u001b[39msize, replace\u001b[38;5;241m=\u001b[39mreplace, p\u001b[38;5;241m=\u001b[39mweights)\u001b[38;5;241m.\u001b[39mastype(\n\u001b[0;32m    152\u001b[0m     np\u001b[38;5;241m.\u001b[39mintp, copy\u001b[38;5;241m=\u001b[39m\u001b[38;5;28;01mFalse\u001b[39;00m\n\u001b[0;32m    153\u001b[0m )\n",
      "File \u001b[1;32mmtrand.pyx:928\u001b[0m, in \u001b[0;36mnumpy.random.mtrand.RandomState.choice\u001b[1;34m()\u001b[0m\n",
      "\u001b[1;31mValueError\u001b[0m: a must be greater than 0 unless no samples are taken"
     ]
    }
   ],
   "source": [
    "main()"
   ]
  },
  {
   "cell_type": "code",
   "execution_count": null,
   "id": "d3c887d6",
   "metadata": {},
   "outputs": [],
   "source": [
    "# Display the recommended songs\n",
    "print(\"Recommended Songs:\")\n",
    "for song in recommended_songs:\n",
    "    print(song)"
   ]
  },
  {
   "cell_type": "code",
   "execution_count": null,
   "id": "a560e358",
   "metadata": {},
   "outputs": [],
   "source": [
    "# Do he have to ransform the new all_songs clustered with UMAP?\n",
    "# Do we have to scale the audio features for the user input and UMAP them? scaling gives 0 on every column. What is happening?\n",
    "# If we have to umap both the main and the user df how to integrate them into the function\n",
    "# how to integrate the scaler into the function?\n"
   ]
  }
 ],
 "metadata": {
  "kernelspec": {
   "display_name": "Python 3 (ipykernel)",
   "language": "python",
   "name": "python3"
  },
  "language_info": {
   "codemirror_mode": {
    "name": "ipython",
    "version": 3
   },
   "file_extension": ".py",
   "mimetype": "text/x-python",
   "name": "python",
   "nbconvert_exporter": "python",
   "pygments_lexer": "ipython3",
   "version": "3.11.5"
  }
 },
 "nbformat": 4,
 "nbformat_minor": 5
}
